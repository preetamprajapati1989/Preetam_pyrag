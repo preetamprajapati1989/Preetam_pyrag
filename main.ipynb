{
 "cells": [
  {
   "cell_type": "code",
   "execution_count": 4,
   "metadata": {},
   "outputs": [
    {
     "data": {
      "text/plain": [
       ""
      ]
     },
     "execution_count": 4,
     "metadata": {},
     "output_type": "execute_result"
    }
   ],
   "source": [
    "import os\n",
    "from dotenv import load_dotenv\n",
    "\n",
    "load_dotenv()\n",
    "\n",
    "api_key = os.getenv(\"GOOGLE_API_KEY\")\n"
   ]
  },
  {
   "cell_type": "code",
   "execution_count": 43,
   "metadata": {},
   "outputs": [
    {
     "name": "stdout",
     "output_type": "stream",
     "text": [
      "Sachin Tendulkar is widely regarded as one of the greatest cricketers of all time.  He is an Indian former international cricketer who played for India for 24 years.  He holds numerous batting records, including the most runs in both Test and One Day International (ODI) cricket, as well as the most centuries in both formats.  He is also the only player to have scored one hundred international centuries, the first batsman to score a double century in a One Day International, and the only player to complete more than 30,000 runs in international cricket.  He is often nicknamed \"The God of Cricket\" by his fans.  He retired from all forms of cricket in November 2013.\n"
     ]
    }
   ],
   "source": [
    "from langchain_google_genai.chat_models import ChatGoogleGenerativeAI\n",
    "\n",
    "llm = ChatGoogleGenerativeAI(\n",
    "    model = 'gemini-1.5-pro',\n",
    "    temperature= .2,\n",
    "    api_key= api_key,\n",
    "    max_retries= 2,\n",
    "    max_tokens= 1000\n",
    ")\n",
    "\n",
    "\n",
    "response = llm.invoke(\"Who is sachin tendulkar?\")\n",
    "\n",
    "print(response.content)"
   ]
  },
  {
   "cell_type": "code",
   "execution_count": 21,
   "metadata": {},
   "outputs": [
    {
     "name": "stderr",
     "output_type": "stream",
     "text": [
      "<>:4: SyntaxWarning: invalid escape sequence '\\B'\n",
      "<>:4: SyntaxWarning: invalid escape sequence '\\B'\n",
      "C:\\Users\\DELL\\AppData\\Local\\Temp\\ipykernel_12128\\2885317271.py:4: SyntaxWarning: invalid escape sequence '\\B'\n",
      "  loader = PyPDFLoader(\"Source\\Budget_Circular_2024_25.pdf\")\n"
     ]
    },
    {
     "data": {
      "text/plain": [
       "406"
      ]
     },
     "execution_count": 21,
     "metadata": {},
     "output_type": "execute_result"
    }
   ],
   "source": [
    "from langchain.document_loaders import PyPDFLoader\n",
    "from langchain.text_splitter import RecursiveCharacterTextSplitter\n",
    "\n",
    "loader = PyPDFLoader(\"Source\\Budget_Circular_2024_25.pdf\")\n",
    "\n",
    "document = loader.load()\n",
    "\n",
    "splitter = RecursiveCharacterTextSplitter(\n",
    "    chunk_size = 1000,\n",
    "    chunk_overlap = 200,\n",
    "    length_function=len\n",
    ")\n",
    "\n",
    "chunks = splitter.split_documents(document)\n",
    "\n",
    "len(chunks)"
   ]
  },
  {
   "cell_type": "code",
   "execution_count": 27,
   "metadata": {},
   "outputs": [],
   "source": [
    "from langchain_google_genai.embeddings import GoogleGenerativeAIEmbeddings\n",
    "\n",
    "embeddings = GoogleGenerativeAIEmbeddings(\n",
    "    google_api_key= api_key,\n",
    "    model= 'models/embedding-001'\n",
    "\n",
    ")"
   ]
  },
  {
   "cell_type": "code",
   "execution_count": 31,
   "metadata": {},
   "outputs": [],
   "source": [
    "from langchain.vectorstores import FAISS\n",
    "\n",
    "db = FAISS.from_documents(chunks, embeddings)\n",
    "\n"
   ]
  },
  {
   "cell_type": "code",
   "execution_count": 33,
   "metadata": {},
   "outputs": [
    {
     "data": {
      "text/plain": [
       "[(Document(id='74dbfe7d-0f37-4a5c-97c7-4c5e5e02b6c5', metadata={'source': 'Source\\\\Budget_Circular_2024_25.pdf', 'page': 85}, page_content=\"(iv) Long term borrowing and further capacity to borrow on the basis of its 'Net worth'; \\n(v) Any other fmancial commitments in the near future; \\n(vi) Business /other receivables and contingent liabilities , if any; and \\n(vii) Market price/book value of share. \\n6.4 Based on this analysis, it needs to be clearly brought out that surplus cash and bank \\nbalance with the CPSE shall be considered for restructuring of capital through buyback. \\nHowever, every CPSE having net-worth of atleast Rs. 2000 crore and cash and bank \\nbalance of over Rs. 1000 crore shall exercise the option to buy-back their shares. \\n7. Issue of Bonus Shares: \\n7.1 The Department of Public Enterprises had issued guidelines on issue of bonus shares \\nby Public Sector Undertakings vide O.M. No. DPE / 12(6) /95-Fin. Dated lOth November \\n1995 and O.M. No. DPE / 13(21)-Fin. Dated 25th November, 2011 respectively. These \\nguidelines provide that each Administrative Ministry may direct the CPSEs under their\"),\n",
       "  np.float32(0.50152606)),\n",
       " (Document(id='d9cb5c1e-bf2e-474a-a8ed-f6327ab51364', metadata={'source': 'Source\\\\Budget_Circular_2024_25.pdf', 'page': 86}, page_content='to invest in the company . In view of this, the Board of the CPSEs needs to discuss and \\ndecide on the desirability of splitting the share. \\n8.3. However, a CPSE where market price or book value of its share exceeds 50 times of \\nits face value will split-off its shares appropriately provided its existing face value of the \\nshare is equal to or more than Rs . 1. \\n9. Miscellaneous Provisions: \\n9.1 · Net-worth as referred to in the above guideline s would have the same meaning as \\ndefined in the Companies Act, 2013, as amended from time to time. \\n9.2 The above guidelines on payment of dividend , bonus shares , buyback and splitting of \\nshares would be subject to the provisions of the Act under which a CPSE has been set up, as \\namended from time to time and any other extant regulations /rules. \\n9.3 In case , any CPSE is not able to comply with any of the above guidelines, specific \\nexemption has to be obtained from DIP AM , Ministry of Finance , Government of India'),\n",
       "  np.float32(0.5330087)),\n",
       " (Document(id='c7fe6cc7-1b2e-4bca-becb-78be8e60206b', metadata={'source': 'Source\\\\Budget_Circular_2024_25.pdf', 'page': 84}, page_content=\"surplus funds optimally for business purposes. Although CPSEs have been set for specific \\npurpose, some of them are not able to deploy the cash/bank balances for viable business \\nexpansion. In such cases, buyback of shares improves investors' confidence in the company \\nand is likely to help the company to raise capital in future when it requires funds for \\nexpansion/ diversification for growth. Thus, it supports their market capitalization , which is \\nin the overall long term interest of the company. \\n6.3. In supersession of earlier guidelines, every CPSE shall look into and analyse / \\ndeliberate in first Board meeting after the closure of the fmancial year the following \\nparameters for the purpose of buyback: \\n(i) Cash and Bank balance; \\n(ii) Capital Expenditure and business expansion as committed with reference to the \\nCAPEX incurred in the last 3 years; \\n(iii) Net-worth [Free reserves and paid-up capital, including other reserves (if any)]; \\n3 \\n75\"),\n",
       "  np.float32(0.53904533)),\n",
       " (Document(id='81e5ca07-c949-4ba8-a91b-357e4a88f7a8', metadata={'source': 'Source\\\\Budget_Circular_2024_25.pdf', 'page': 67}, page_content='APPENDIX-XXXIX \\n(See Paragraph 17.11& 17.12) \\nREVENUE RECEIPTS– DIVIDENDS \\n \\nMinistry/Department/Union Territory \\nMajor Head: 0050-Dividend & Profits \\n(₹ in Thousand) \\nAccounts 6 \\nMonths \\n \\nDetailed \\nHead \\nLevel \\nActual PAT* \\n22-23 \\nNet \\nWorth \\n22-23 \\nEquity as on \\nMarch 31, \\n2023 \\nEquity \\nholding Of \\nGOI on \\nMarch 31, \\n23 \\n2023-24 2024-25 \\n22-23 23-24 20-21 21-22 22-23 Budget \\nEstimates \\nRevised \\nEstimates \\nBudget \\nEstimates \\n             \\n             \\n             \\n             \\n*PAT-Profit after Tax. \\nMinor head-wise explanation for increase/decrease may be indicated along with the name of PSUs and amount against \\neach. \\nTo \\n \\nMs. Rathna Gurumurthy, Under Secretary (PD) Signature \\nDepartment of Economic Affairs, Name \\nRoom No. 263-B, North Block, New Delhi.  Designation  \\n Date \\n Telephone No. \\n \\nAPPENDIX-XL \\n(See Paragraph 17.12) \\nREVENUE RECEIPTS- DIVIDENDS \\nMinistry/Department/Union Territory: \\nMajor Head: 0050-Dividends & Profits \\n(₹ in Thousand) \\nSl. No Nam e \\nof the \\nCPSE/'),\n",
       "  np.float32(0.544478))]"
      ]
     },
     "execution_count": 33,
     "metadata": {},
     "output_type": "execute_result"
    }
   ],
   "source": [
    "query = \"what is the networth of CPSE?\"\n",
    "\n",
    "docs = db.similarity_search_with_score(query)\n",
    "    \n",
    "docs"
   ]
  },
  {
   "cell_type": "code",
   "execution_count": 47,
   "metadata": {},
   "outputs": [
    {
     "name": "stderr",
     "output_type": "stream",
     "text": [
      "c:\\Users\\DELL\\anaconda3\\envs\\py_rag\\Lib\\site-packages\\langsmith\\client.py:256: LangSmithMissingAPIKeyWarning: API key must be provided when using hosted LangSmith API\n",
      "  warnings.warn(\n"
     ]
    },
    {
     "name": "stdout",
     "output_type": "stream",
     "text": [
      "Net-worth, as referred to in the guidelines, has the same meaning as defined in the Companies Act, 2013, as amended from time to time.  A CPSE having net-worth of at least Rs. 2000 crore *and* cash and bank balance of over Rs. 1000 crore shall exercise the option to buy-back their shares.\n"
     ]
    }
   ],
   "source": [
    "from langchain import hub\n",
    "from langchain.chains import create_retrieval_chain\n",
    "from langchain.chains.combine_documents import create_stuff_documents_chain\n",
    "\n",
    "retrieval_qa_chat_prompt = hub.pull(\"langchain-ai/retrieval-qa-chat\")\n",
    "combine_docs_chain = create_stuff_documents_chain(\n",
    "    llm, retrieval_qa_chat_prompt\n",
    ")\n",
    "\n",
    "retriever = db.as_retriever()\n",
    "\n",
    "retrieval_chain = create_retrieval_chain(retriever, combine_docs_chain)\n",
    "\n",
    "response = retrieval_chain.invoke({\"input\":query})\n",
    "\n",
    "print(response['answer'])\n"
   ]
  }
 ],
 "metadata": {
  "kernelspec": {
   "display_name": "py_rag",
   "language": "python",
   "name": "python3"
  },
  "language_info": {
   "codemirror_mode": {
    "name": "ipython",
    "version": 3
   },
   "file_extension": ".py",
   "mimetype": "text/x-python",
   "name": "python",
   "nbconvert_exporter": "python",
   "pygments_lexer": "ipython3",
   "version": "3.12.8"
  }
 },
 "nbformat": 4,
 "nbformat_minor": 2
}
